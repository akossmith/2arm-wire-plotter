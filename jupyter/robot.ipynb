{
 "cells": [
  {
   "cell_type": "code",
   "execution_count": 5,
   "metadata": {},
   "outputs": [
    {
     "data": {
      "text/plain": [
       "[{ca1: (x*(R1**2 - l1**2 + x**2 + y**2) - y*sqrt((-R1**2 + 2*R1*l1 - l1**2 + x**2 + y**2)*(R1**2 + 2*R1*l1 + l1**2 - x**2 - y**2)))/(2*R1*(x**2 + y**2))},\n",
       " {ca1: (x*(R1**2 - l1**2 + x**2 + y**2) + y*sqrt((-R1**2 + 2*R1*l1 - l1**2 + x**2 + y**2)*(R1**2 + 2*R1*l1 + l1**2 - x**2 - y**2)))/(2*R1*(x**2 + y**2))}]"
      ]
     },
     "execution_count": 5,
     "metadata": {},
     "output_type": "execute_result"
    }
   ],
   "source": [
    "from sympy.solvers import solve\n",
    "from sympy import symbols \n",
    "import sympy\n",
    "x,y,R1,ca1,sa1,R2,ca2,sa2,D,l1,l2=symbols(\"x,y,R1,ca1,sa1,R2,ca2,sa2,D,l1,l2\")\n",
    "\n",
    "sol = solve((x-R1*ca1)**2 + (y + R1*sympy.sqrt(1-ca1**2))**2 - l1**2, ca1, dict=True)\n",
    "sol\n",
    "\n",
    "#good solution (found experimentally):\n",
    "sol[1]"
   ]
  },
  {
   "cell_type": "code",
   "execution_count": 7,
   "metadata": {},
   "outputs": [
    {
     "data": {
      "text/plain": [
       "[{ca2: (-y*sqrt((-D**2 + 2*D*x + R2**2 + 2*R2*l2 + l2**2 - x**2 - y**2)*(D**2 - 2*D*x - R2**2 + 2*R2*l2 - l2**2 + x**2 + y**2)) + (D - x)*(D**2 - 2*D*x + R2**2 - l2**2 + x**2 + y**2))/(2*R2*(D**2 - 2*D*x + x**2 + y**2))},\n",
       " {ca2: (y*sqrt((-D**2 + 2*D*x + R2**2 + 2*R2*l2 + l2**2 - x**2 - y**2)*(D**2 - 2*D*x - R2**2 + 2*R2*l2 - l2**2 + x**2 + y**2)) + (D - x)*(D**2 - 2*D*x + R2**2 - l2**2 + x**2 + y**2))/(2*R2*(D**2 - 2*D*x + x**2 + y**2))}]"
      ]
     },
     "execution_count": 7,
     "metadata": {},
     "output_type": "execute_result"
    }
   ],
   "source": [
    "sol = solve((D-x-R2*ca2)**2 + (y + R2*sympy.sqrt(1-ca2**2))**2 - l2**2, ca2, dict=True)\n",
    "#good solution\n",
    "sol[1]"
   ]
  },
  {
   "cell_type": "code",
   "execution_count": null,
   "metadata": {},
   "outputs": [],
   "source": []
  }
 ],
 "metadata": {
  "kernelspec": {
   "display_name": "Python 3.7.4 64-bit ('base': conda)",
   "language": "python",
   "name": "python37464bitbasecondaba62da3890274fcd990fd5bee86203a7"
  },
  "language_info": {
   "codemirror_mode": {
    "name": "ipython",
    "version": 3
   },
   "file_extension": ".py",
   "mimetype": "text/x-python",
   "name": "python",
   "nbconvert_exporter": "python",
   "pygments_lexer": "ipython3",
   "version": "3.7.4"
  }
 },
 "nbformat": 4,
 "nbformat_minor": 2
}
