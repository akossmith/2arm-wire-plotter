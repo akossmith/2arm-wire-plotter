{
 "cells": [
  {
   "cell_type": "code",
   "execution_count": 16,
   "metadata": {},
   "outputs": [],
   "source": [
    "from matplotlib import pyplot as plt\n",
    "import numpy as np\n",
    "import math\n",
    "from math import sqrt\n",
    "\n",
    "from sympy.solvers import solve\n",
    "from sympy import symbols, diff\n",
    "import sympy\n",
    "\n",
    "def deg2rad(deg):\n",
    "    return deg/180*math.pi"
   ]
  },
  {
   "cell_type": "code",
   "execution_count": 19,
   "metadata": {},
   "outputs": [],
   "source": [
    "width = 100\n",
    "x_min = (272 - width) / 2.0\n",
    "y_min =  -30\n",
    "\n",
    "def get_alphas(x,y):\n",
    "    # assumed physical parameters\n",
    "    R1 = 115  # left arm length\n",
    "    R2 = 115\n",
    "    l1 = 160  # left wire length\n",
    "    l2 = 160\n",
    "    D = 272  # distance of motor axles\n",
    "    \n",
    "    x = x\n",
    "    y = y\n",
    "    ca1 = (x * (R1 ** 2 - l1 ** 2 + x ** 2 + y ** 2) + y * math.sqrt(\n",
    "        (-R1 ** 2 + 2 * R1 * l1 - l1 ** 2 + x ** 2 + y ** 2) * (\n",
    "                R1 ** 2 + 2 * R1 * l1 + l1 ** 2 - x ** 2 - y ** 2))) / (2 * R1 * (x ** 2 + y ** 2))\n",
    "    sa1 = math.sqrt(1 - ca1 ** 2)\n",
    "\n",
    "    ca2 = (y * math.sqrt((-D ** 2 + 2 * D * x + R2 ** 2 + 2 * R2 * l2 + l2 ** 2 - x ** 2 - y ** 2) * (\n",
    "            D ** 2 - 2 * D * x - R2 ** 2 + 2 * R2 * l2 - l2 ** 2 + x ** 2 + y ** 2)) + (D - x) * (\n",
    "                   D ** 2 - 2 * D * x + R2 ** 2 - l2 ** 2 + x ** 2 + y ** 2)) / (\n",
    "                  2 * R2 * (D ** 2 - 2 * D * x + x ** 2 + y ** 2))\n",
    "    sa2 = math.sqrt(1 - ca2 ** 2)\n",
    "\n",
    "    alpha1 = math.atan2(sa1, ca1)# / math.pi * 180\n",
    "    alpha2 = math.atan2(sa2, ca2)# / math.pi * 180  # by our convention positive is up (as opposed to math)\n",
    "    \n",
    "    return alpha1, alpha2 - deg2rad(0.5)\n",
    "\n",
    "def get_xy(alpha1, alpha2):\n",
    "    #actual physical parameters\n",
    "    R1 = 115  # left arm length\n",
    "    R2 = 115\n",
    "    l1 = 160  # left wire length\n",
    "    l2 = 160\n",
    "    D = 272  # distance of motor axles\n",
    "    \n",
    "    #print(alpha1, alpha2)\n",
    "    ca1 = math.cos(alpha1)\n",
    "    #print(ca1)\n",
    "    sa1 = math.sin(alpha1)\n",
    "    ca2 = math.cos(alpha2)\n",
    "    sa2 = math.sin(alpha2)\n",
    "    #print(ca1, sa1, ca2, sa2)\n",
    "    x = (-D**2/2 + D*R2*ca2 + R1**2/2 - R2**2/2 - l1**2/2 + l2**2/2 + (R1*sqrt(1 - ca1**2) - R2*sqrt(1 - ca2**2))*(sqrt(-(D**2 - 2*D*R1*ca1 - 2*D*R2*ca2 + R1**2 + 2*R1*R2*ca1*ca2 - 2*R1*R2*sqrt(1 - ca1**2)*sqrt(1 - ca2**2) + R2**2)*(D**4 - 4*D**3*R1*ca1 - 4*D**3*R2*ca2 + 4*D**2*R1**2*ca1**2 + 2*D**2*R1**2 + 12*D**2*R1*R2*ca1*ca2 + 4*D**2*R2**2*ca2**2 + 2*D**2*R2**2 - 2*D**2*l1**2 - 2*D**2*l2**2 - 4*D*R1**3*ca1 - 8*D*R1**2*R2*ca1**2*ca2 - 4*D*R1**2*R2*ca2 - 8*D*R1*R2**2*ca1*ca2**2 - 4*D*R1*R2**2*ca1 + 4*D*R1*ca1*l1**2 + 4*D*R1*ca1*l2**2 - 4*D*R2**3*ca2 + 4*D*R2*ca2*l1**2 + 4*D*R2*ca2*l2**2 + R1**4 + 4*R1**3*R2*ca1*ca2 + 4*R1**2*R2**2*ca1**2 + 4*R1**2*R2**2*ca2**2 - 2*R1**2*R2**2 - 4*R1**2*ca1**2*l2**2 - 2*R1**2*l1**2 + 2*R1**2*l2**2 + 4*R1*R2**3*ca1*ca2 - 4*R1*R2*ca1*ca2*l1**2 - 4*R1*R2*ca1*ca2*l2**2 + R2**4 - 4*R2**2*ca2**2*l1**2 + 2*R2**2*l1**2 - 2*R2**2*l2**2 + l1**4 - 2*l1**2*l2**2 + l2**4) + (D**2*R1*sqrt(1 - ca1**2) + D**2*R2*sqrt(1 - ca2**2) - 2*D*R1**2*ca1*sqrt(1 - ca1**2) - 2*D*R1*R2*ca1*sqrt(1 - ca2**2) - 2*D*R1*R2*ca2*sqrt(1 - ca1**2) - 2*D*R2**2*ca2*sqrt(1 - ca2**2) + R1**3*sqrt(1 - ca1**2) + 2*R1**2*R2*ca1**2*sqrt(1 - ca2**2) + 2*R1**2*R2*ca1*ca2*sqrt(1 - ca1**2) - R1**2*R2*sqrt(1 - ca2**2) + 2*R1*R2**2*ca1*ca2*sqrt(1 - ca2**2) + 2*R1*R2**2*ca2**2*sqrt(1 - ca1**2) - R1*R2**2*sqrt(1 - ca1**2) - R1*l1**2*sqrt(1 - ca1**2) + R1*l2**2*sqrt(1 - ca1**2) + R2**3*sqrt(1 - ca2**2) + R2*l1**2*sqrt(1 - ca2**2) - R2*l2**2*sqrt(1 - ca2**2))**2)/(2*(D**2 - 2*D*R1*ca1 - 2*D*R2*ca2 + R1**2 + 2*R1*R2*ca1*ca2 - 2*R1*R2*sqrt(1 - ca1**2)*sqrt(1 - ca2**2) + R2**2)) + (-D**2*R1*sqrt(1 - ca1**2)/2 - D**2*R2*sqrt(1 - ca2**2)/2 + D*R1**2*ca1*sqrt(1 - ca1**2) + D*R1*R2*ca1*sqrt(1 - ca2**2) + D*R1*R2*ca2*sqrt(1 - ca1**2) + D*R2**2*ca2*sqrt(1 - ca2**2) - R1**3*sqrt(1 - ca1**2)/2 - R1**2*R2*ca1**2*sqrt(1 - ca2**2) - R1**2*R2*ca1*ca2*sqrt(1 - ca1**2) + R1**2*R2*sqrt(1 - ca2**2)/2 - R1*R2**2*ca1*ca2*sqrt(1 - ca2**2) - R1*R2**2*ca2**2*sqrt(1 - ca1**2) + R1*R2**2*sqrt(1 - ca1**2)/2 + R1*l1**2*sqrt(1 - ca1**2)/2 - R1*l2**2*sqrt(1 - ca1**2)/2 - R2**3*sqrt(1 - ca2**2)/2 - R2*l1**2*sqrt(1 - ca2**2)/2 + R2*l2**2*sqrt(1 - ca2**2)/2)/(D**2 - 2*D*R1*ca1 - 2*D*R2*ca2 + R1**2 + 2*R1*R2*ca1*ca2 - 2*R1*R2*sqrt(1 - ca1**2)*sqrt(1 - ca2**2) + R2**2)))/(-D + R1*ca1 + R2*ca2)\n",
    "    y = sqrt(-(D**2 - 2*D*R1*ca1 - 2*D*R2*ca2 + R1**2 + 2*R1*R2*ca1*ca2 - 2*R1*R2*sqrt(1 - ca1**2)*sqrt(1 - ca2**2) + R2**2)*(D**4 - 4*D**3*R1*ca1 - 4*D**3*R2*ca2 + 4*D**2*R1**2*ca1**2 + 2*D**2*R1**2 + 12*D**2*R1*R2*ca1*ca2 + 4*D**2*R2**2*ca2**2 + 2*D**2*R2**2 - 2*D**2*l1**2 - 2*D**2*l2**2 - 4*D*R1**3*ca1 - 8*D*R1**2*R2*ca1**2*ca2 - 4*D*R1**2*R2*ca2 - 8*D*R1*R2**2*ca1*ca2**2 - 4*D*R1*R2**2*ca1 + 4*D*R1*ca1*l1**2 + 4*D*R1*ca1*l2**2 - 4*D*R2**3*ca2 + 4*D*R2*ca2*l1**2 + 4*D*R2*ca2*l2**2 + R1**4 + 4*R1**3*R2*ca1*ca2 + 4*R1**2*R2**2*ca1**2 + 4*R1**2*R2**2*ca2**2 - 2*R1**2*R2**2 - 4*R1**2*ca1**2*l2**2 - 2*R1**2*l1**2 + 2*R1**2*l2**2 + 4*R1*R2**3*ca1*ca2 - 4*R1*R2*ca1*ca2*l1**2 - 4*R1*R2*ca1*ca2*l2**2 + R2**4 - 4*R2**2*ca2**2*l1**2 + 2*R2**2*l1**2 - 2*R2**2*l2**2 + l1**4 - 2*l1**2*l2**2 + l2**4) + (D**2*R1*sqrt(1 - ca1**2) + D**2*R2*sqrt(1 - ca2**2) - 2*D*R1**2*ca1*sqrt(1 - ca1**2) - 2*D*R1*R2*ca1*sqrt(1 - ca2**2) - 2*D*R1*R2*ca2*sqrt(1 - ca1**2) - 2*D*R2**2*ca2*sqrt(1 - ca2**2) + R1**3*sqrt(1 - ca1**2) + 2*R1**2*R2*ca1**2*sqrt(1 - ca2**2) + 2*R1**2*R2*ca1*ca2*sqrt(1 - ca1**2) - R1**2*R2*sqrt(1 - ca2**2) + 2*R1*R2**2*ca1*ca2*sqrt(1 - ca2**2) + 2*R1*R2**2*ca2**2*sqrt(1 - ca1**2) - R1*R2**2*sqrt(1 - ca1**2) - R1*l1**2*sqrt(1 - ca1**2) + R1*l2**2*sqrt(1 - ca1**2) + R2**3*sqrt(1 - ca2**2) + R2*l1**2*sqrt(1 - ca2**2) - R2*l2**2*sqrt(1 - ca2**2))**2)/(2*(D**2 - 2*D*R1*ca1 - 2*D*R2*ca2 + R1**2 + 2*R1*R2*ca1*ca2 - 2*R1*R2*sqrt(1 - ca1**2)*sqrt(1 - ca2**2) + R2**2)) + (-D**2*R1*sqrt(1 - ca1**2)/2 - D**2*R2*sqrt(1 - ca2**2)/2 + D*R1**2*ca1*sqrt(1 - ca1**2) + D*R1*R2*ca1*sqrt(1 - ca2**2) + D*R1*R2*ca2*sqrt(1 - ca1**2) + D*R2**2*ca2*sqrt(1 - ca2**2) - R1**3*sqrt(1 - ca1**2)/2 - R1**2*R2*ca1**2*sqrt(1 - ca2**2) - R1**2*R2*ca1*ca2*sqrt(1 - ca1**2) + R1**2*R2*sqrt(1 - ca2**2)/2 - R1*R2**2*ca1*ca2*sqrt(1 - ca2**2) - R1*R2**2*ca2**2*sqrt(1 - ca1**2) + R1*R2**2*sqrt(1 - ca1**2)/2 + R1*l1**2*sqrt(1 - ca1**2)/2 - R1*l2**2*sqrt(1 - ca1**2)/2 - R2**3*sqrt(1 - ca2**2)/2 - R2*l1**2*sqrt(1 - ca2**2)/2 + R2*l2**2*sqrt(1 - ca2**2)/2)/(D**2 - 2*D*R1*ca1 - 2*D*R2*ca2 + R1**2 + 2*R1*R2*ca1*ca2 - 2*R1*R2*sqrt(1 - ca1**2)*sqrt(1 - ca2**2) + R2**2)\n",
    "    return x,y"
   ]
  },
  {
   "cell_type": "code",
   "execution_count": 20,
   "metadata": {},
   "outputs": [
    {
     "data": {
      "text/plain": [
       "<matplotlib.collections.PathCollection at 0x1d302b8cb88>"
      ]
     },
     "execution_count": 20,
     "metadata": {},
     "output_type": "execute_result"
    },
    {
     "data": {
      "image/png": "[encoded data removed]",
      "text/plain": [
       "<Figure size 640x640 with 1 Axes>"
      ]
     },
     "metadata": {
      "needs_background": "light"
     },
     "output_type": "display_data"
    }
   ],
   "source": [
    "ticks_dist_mm = 10.0\n",
    "resolution = np.arange(0, width + 1, ticks_dist_mm)\n",
    "grid_xs = np.array([x_min + elem for i in range(len(resolution)) for elem in resolution ])\n",
    "grid_ys = np.array([y_min + elem for elem in resolution for i in range(len(resolution))])\n",
    "\n",
    "plt.figure(figsize=(8,8 ), dpi=80)\n",
    "plt.gca().set_aspect('equal')\n",
    "plt.scatter(grid_xs, grid_ys, color=\"blue\", marker=\"o\")\n",
    "plt.scatter(*list(zip(*map(lambda x: get_xy(*x),map(lambda pair: get_alphas(*pair), zip(grid_xs, grid_ys))))), color=\"orange\", marker=\".\")"
   ]
  },
  {
   "cell_type": "code",
   "execution_count": 3,
   "metadata": {},
   "outputs": [
    {
     "data": {
      "text/plain": [
       "[((0.0, 0.0), (10.0, 0.0)),\n",
       " ((10.0, 0.0), (20.0, 0.0)),\n",
       " ((20.0, 0.0), (30.0, 0.0)),\n",
       " ((30.0, 0.0), (40.0, 0.0)),\n",
       " ((40.0, 0.0), (50.0, 0.0)),\n",
       " ((50.0, 0.0), (60.0, 0.0)),\n",
       " ((60.0, 0.0), (70.0, 0.0)),\n",
       " ((70.0, 0.0), (80.0, 0.0)),\n",
       " ((80.0, 0.0), (90.0, 0.0)),\n",
       " ((90.0, 0.0), (100.0, 0.0)),\n",
       " ((0.0, 10.0), (10.0, 10.0)),\n",
       " ((10.0, 10.0), (20.0, 10.0)),\n",
       " ((20.0, 10.0), (30.0, 10.0)),\n",
       " ((30.0, 10.0), (40.0, 10.0)),\n",
       " ((40.0, 10.0), (50.0, 10.0)),\n",
       " ((50.0, 10.0), (60.0, 10.0)),\n",
       " ((60.0, 10.0), (70.0, 10.0)),\n",
       " ((70.0, 10.0), (80.0, 10.0)),\n",
       " ((80.0, 10.0), (90.0, 10.0)),\n",
       " ((90.0, 10.0), (100.0, 10.0)),\n",
       " ((0.0, 20.0), (10.0, 20.0)),\n",
       " ((10.0, 20.0), (20.0, 20.0)),\n",
       " ((20.0, 20.0), (30.0, 20.0)),\n",
       " ((30.0, 20.0), (40.0, 20.0)),\n",
       " ((40.0, 20.0), (50.0, 20.0)),\n",
       " ((50.0, 20.0), (60.0, 20.0)),\n",
       " ((60.0, 20.0), (70.0, 20.0)),\n",
       " ((70.0, 20.0), (80.0, 20.0)),\n",
       " ((80.0, 20.0), (90.0, 20.0)),\n",
       " ((90.0, 20.0), (100.0, 20.0)),\n",
       " ((0.0, 30.0), (10.0, 30.0)),\n",
       " ((10.0, 30.0), (20.0, 30.0)),\n",
       " ((20.0, 30.0), (30.0, 30.0)),\n",
       " ((30.0, 30.0), (40.0, 30.0)),\n",
       " ((40.0, 30.0), (50.0, 30.0)),\n",
       " ((50.0, 30.0), (60.0, 30.0)),\n",
       " ((60.0, 30.0), (70.0, 30.0)),\n",
       " ((70.0, 30.0), (80.0, 30.0)),\n",
       " ((80.0, 30.0), (90.0, 30.0)),\n",
       " ((90.0, 30.0), (100.0, 30.0)),\n",
       " ((0.0, 40.0), (10.0, 40.0)),\n",
       " ((10.0, 40.0), (20.0, 40.0)),\n",
       " ((20.0, 40.0), (30.0, 40.0)),\n",
       " ((30.0, 40.0), (40.0, 40.0)),\n",
       " ((40.0, 40.0), (50.0, 40.0)),\n",
       " ((50.0, 40.0), (60.0, 40.0)),\n",
       " ((60.0, 40.0), (70.0, 40.0)),\n",
       " ((70.0, 40.0), (80.0, 40.0)),\n",
       " ((80.0, 40.0), (90.0, 40.0)),\n",
       " ((90.0, 40.0), (100.0, 40.0)),\n",
       " ((0.0, 50.0), (10.0, 50.0)),\n",
       " ((10.0, 50.0), (20.0, 50.0)),\n",
       " ((20.0, 50.0), (30.0, 50.0)),\n",
       " ((30.0, 50.0), (40.0, 50.0)),\n",
       " ((40.0, 50.0), (50.0, 50.0)),\n",
       " ((50.0, 50.0), (60.0, 50.0)),\n",
       " ((60.0, 50.0), (70.0, 50.0)),\n",
       " ((70.0, 50.0), (80.0, 50.0)),\n",
       " ((80.0, 50.0), (90.0, 50.0)),\n",
       " ((90.0, 50.0), (100.0, 50.0)),\n",
       " ((0.0, 60.0), (10.0, 60.0)),\n",
       " ((10.0, 60.0), (20.0, 60.0)),\n",
       " ((20.0, 60.0), (30.0, 60.0)),\n",
       " ((30.0, 60.0), (40.0, 60.0)),\n",
       " ((40.0, 60.0), (50.0, 60.0)),\n",
       " ((50.0, 60.0), (60.0, 60.0)),\n",
       " ((60.0, 60.0), (70.0, 60.0)),\n",
       " ((70.0, 60.0), (80.0, 60.0)),\n",
       " ((80.0, 60.0), (90.0, 60.0)),\n",
       " ((90.0, 60.0), (100.0, 60.0)),\n",
       " ((0.0, 70.0), (10.0, 70.0)),\n",
       " ((10.0, 70.0), (20.0, 70.0)),\n",
       " ((20.0, 70.0), (30.0, 70.0)),\n",
       " ((30.0, 70.0), (40.0, 70.0)),\n",
       " ((40.0, 70.0), (50.0, 70.0)),\n",
       " ((50.0, 70.0), (60.0, 70.0)),\n",
       " ((60.0, 70.0), (70.0, 70.0)),\n",
       " ((70.0, 70.0), (80.0, 70.0)),\n",
       " ((80.0, 70.0), (90.0, 70.0)),\n",
       " ((90.0, 70.0), (100.0, 70.0)),\n",
       " ((0.0, 80.0), (10.0, 80.0)),\n",
       " ((10.0, 80.0), (20.0, 80.0)),\n",
       " ((20.0, 80.0), (30.0, 80.0)),\n",
       " ((30.0, 80.0), (40.0, 80.0)),\n",
       " ((40.0, 80.0), (50.0, 80.0)),\n",
       " ((50.0, 80.0), (60.0, 80.0)),\n",
       " ((60.0, 80.0), (70.0, 80.0)),\n",
       " ((70.0, 80.0), (80.0, 80.0)),\n",
       " ((80.0, 80.0), (90.0, 80.0)),\n",
       " ((90.0, 80.0), (100.0, 80.0)),\n",
       " ((0.0, 90.0), (10.0, 90.0)),\n",
       " ((10.0, 90.0), (20.0, 90.0)),\n",
       " ((20.0, 90.0), (30.0, 90.0)),\n",
       " ((30.0, 90.0), (40.0, 90.0)),\n",
       " ((40.0, 90.0), (50.0, 90.0)),\n",
       " ((50.0, 90.0), (60.0, 90.0)),\n",
       " ((60.0, 90.0), (70.0, 90.0)),\n",
       " ((70.0, 90.0), (80.0, 90.0)),\n",
       " ((80.0, 90.0), (90.0, 90.0)),\n",
       " ((90.0, 90.0), (100.0, 90.0)),\n",
       " ((0.0, 100.0), (10.0, 100.0)),\n",
       " ((10.0, 100.0), (20.0, 100.0)),\n",
       " ((20.0, 100.0), (30.0, 100.0)),\n",
       " ((30.0, 100.0), (40.0, 100.0)),\n",
       " ((40.0, 100.0), (50.0, 100.0)),\n",
       " ((50.0, 100.0), (60.0, 100.0)),\n",
       " ((60.0, 100.0), (70.0, 100.0)),\n",
       " ((70.0, 100.0), (80.0, 100.0)),\n",
       " ((80.0, 100.0), (90.0, 100.0)),\n",
       " ((90.0, 100.0), (100.0, 100.0))]"
      ]
     },
     "execution_count": 3,
     "metadata": {},
     "output_type": "execute_result"
    },
    {
     "data": {
      "image/png": "[encoded data removed]",
      "text/plain": [
       "<Figure size 432x288 with 1 Axes>"
      ]
     },
     "metadata": {
      "needs_background": "light"
     },
     "output_type": "display_data"
    }
   ],
   "source": [
    "ticks_dist_mm = 10.0\n",
    "ticks = np.arange(0, width + 1, ticks_dist_mm)\n",
    "resolution = len(ticks)\n",
    "#verticals = [((x, x), (y1, y2))  for x in resolution for y1, y2 in zip(resolution, resolution[1:])]\n",
    "grid = [[(ticks[i], ticks[j]) for i in range(resolution)] for j in range(resolution)]\n",
    "\n",
    "def plot_grid(grid):\n",
    "    verticals = [((ticks[i], ticks[i]), (ticks[j1], ticks[j2]))  \n",
    "                 for i in range(len(ticks)) \n",
    "                 for j1, j2 in zip(range(len(ticks)),range(1, len(ticks)))]\n",
    "    horizontals = [((ticks[j1], ticks[j2]), (ticks[i], ticks[i]))  \n",
    "                 for i in range(len(ticks)) \n",
    "                 for j1, j2 in zip(range(len(ticks)),range(1, len(ticks)))]\n",
    "    verticals = [(grid[i][j], grid[i][j+1])  \n",
    "                 for i in range(resolution) \n",
    "                 for j in range(resolution - 1)]\n",
    "    for line in verticals:\n",
    "        plt.plot(*line, \"b.-\")\n",
    "    for line in horizontals:\n",
    "        pass\n",
    "        #plt.plot(*line, \"b-\")\n",
    "    \n",
    "plot_grid(grid)\n",
    "[(grid[i][j], grid[i][j+1])  \n",
    "                 for i in range(resolution) \n",
    "                 for j in range(resolution - 1)]\n",
    "#plt.scatter(*zip(*(grid[i][j][0], grid[i][j][1] for grid)"
   ]
  },
  {
   "cell_type": "code",
   "execution_count": null,
   "metadata": {},
   "outputs": [],
   "source": []
  },
  {
   "cell_type": "code",
   "execution_count": 79,
   "metadata": {},
   "outputs": [
    {
     "data": {
      "text/plain": [
       "[{x: (-D**2/2 + D*R2*ca2 + R1**2/2 - R2**2/2 - l1**2/2 + l2**2/2 + (R1*sqrt(1 - ca1**2) - R2*sqrt(1 - ca2**2))*(-sqrt(-(D**2 - 2*D*R1*ca1 - 2*D*R2*ca2 + R1**2 + 2*R1*R2*ca1*ca2 - 2*R1*R2*sqrt(1 - ca1**2)*sqrt(1 - ca2**2) + R2**2)*(D**4 - 4*D**3*R1*ca1 - 4*D**3*R2*ca2 + 4*D**2*R1**2*ca1**2 + 2*D**2*R1**2 + 12*D**2*R1*R2*ca1*ca2 + 4*D**2*R2**2*ca2**2 + 2*D**2*R2**2 - 2*D**2*l1**2 - 2*D**2*l2**2 - 4*D*R1**3*ca1 - 8*D*R1**2*R2*ca1**2*ca2 - 4*D*R1**2*R2*ca2 - 8*D*R1*R2**2*ca1*ca2**2 - 4*D*R1*R2**2*ca1 + 4*D*R1*ca1*l1**2 + 4*D*R1*ca1*l2**2 - 4*D*R2**3*ca2 + 4*D*R2*ca2*l1**2 + 4*D*R2*ca2*l2**2 + R1**4 + 4*R1**3*R2*ca1*ca2 + 4*R1**2*R2**2*ca1**2 + 4*R1**2*R2**2*ca2**2 - 2*R1**2*R2**2 - 4*R1**2*ca1**2*l2**2 - 2*R1**2*l1**2 + 2*R1**2*l2**2 + 4*R1*R2**3*ca1*ca2 - 4*R1*R2*ca1*ca2*l1**2 - 4*R1*R2*ca1*ca2*l2**2 + R2**4 - 4*R2**2*ca2**2*l1**2 + 2*R2**2*l1**2 - 2*R2**2*l2**2 + l1**4 - 2*l1**2*l2**2 + l2**4) + (D**2*R1*sqrt(1 - ca1**2) + D**2*R2*sqrt(1 - ca2**2) - 2*D*R1**2*ca1*sqrt(1 - ca1**2) - 2*D*R1*R2*ca1*sqrt(1 - ca2**2) - 2*D*R1*R2*ca2*sqrt(1 - ca1**2) - 2*D*R2**2*ca2*sqrt(1 - ca2**2) + R1**3*sqrt(1 - ca1**2) + 2*R1**2*R2*ca1**2*sqrt(1 - ca2**2) + 2*R1**2*R2*ca1*ca2*sqrt(1 - ca1**2) - R1**2*R2*sqrt(1 - ca2**2) + 2*R1*R2**2*ca1*ca2*sqrt(1 - ca2**2) + 2*R1*R2**2*ca2**2*sqrt(1 - ca1**2) - R1*R2**2*sqrt(1 - ca1**2) - R1*l1**2*sqrt(1 - ca1**2) + R1*l2**2*sqrt(1 - ca1**2) + R2**3*sqrt(1 - ca2**2) + R2*l1**2*sqrt(1 - ca2**2) - R2*l2**2*sqrt(1 - ca2**2))**2)/(2*(D**2 - 2*D*R1*ca1 - 2*D*R2*ca2 + R1**2 + 2*R1*R2*ca1*ca2 - 2*R1*R2*sqrt(1 - ca1**2)*sqrt(1 - ca2**2) + R2**2)) + (-D**2*R1*sqrt(1 - ca1**2)/2 - D**2*R2*sqrt(1 - ca2**2)/2 + D*R1**2*ca1*sqrt(1 - ca1**2) + D*R1*R2*ca1*sqrt(1 - ca2**2) + D*R1*R2*ca2*sqrt(1 - ca1**2) + D*R2**2*ca2*sqrt(1 - ca2**2) - R1**3*sqrt(1 - ca1**2)/2 - R1**2*R2*ca1**2*sqrt(1 - ca2**2) - R1**2*R2*ca1*ca2*sqrt(1 - ca1**2) + R1**2*R2*sqrt(1 - ca2**2)/2 - R1*R2**2*ca1*ca2*sqrt(1 - ca2**2) - R1*R2**2*ca2**2*sqrt(1 - ca1**2) + R1*R2**2*sqrt(1 - ca1**2)/2 + R1*l1**2*sqrt(1 - ca1**2)/2 - R1*l2**2*sqrt(1 - ca1**2)/2 - R2**3*sqrt(1 - ca2**2)/2 - R2*l1**2*sqrt(1 - ca2**2)/2 + R2*l2**2*sqrt(1 - ca2**2)/2)/(D**2 - 2*D*R1*ca1 - 2*D*R2*ca2 + R1**2 + 2*R1*R2*ca1*ca2 - 2*R1*R2*sqrt(1 - ca1**2)*sqrt(1 - ca2**2) + R2**2)))/(-D + R1*ca1 + R2*ca2),\n",
       "  y: -sqrt(-(D**2 - 2*D*R1*ca1 - 2*D*R2*ca2 + R1**2 + 2*R1*R2*ca1*ca2 - 2*R1*R2*sqrt(1 - ca1**2)*sqrt(1 - ca2**2) + R2**2)*(D**4 - 4*D**3*R1*ca1 - 4*D**3*R2*ca2 + 4*D**2*R1**2*ca1**2 + 2*D**2*R1**2 + 12*D**2*R1*R2*ca1*ca2 + 4*D**2*R2**2*ca2**2 + 2*D**2*R2**2 - 2*D**2*l1**2 - 2*D**2*l2**2 - 4*D*R1**3*ca1 - 8*D*R1**2*R2*ca1**2*ca2 - 4*D*R1**2*R2*ca2 - 8*D*R1*R2**2*ca1*ca2**2 - 4*D*R1*R2**2*ca1 + 4*D*R1*ca1*l1**2 + 4*D*R1*ca1*l2**2 - 4*D*R2**3*ca2 + 4*D*R2*ca2*l1**2 + 4*D*R2*ca2*l2**2 + R1**4 + 4*R1**3*R2*ca1*ca2 + 4*R1**2*R2**2*ca1**2 + 4*R1**2*R2**2*ca2**2 - 2*R1**2*R2**2 - 4*R1**2*ca1**2*l2**2 - 2*R1**2*l1**2 + 2*R1**2*l2**2 + 4*R1*R2**3*ca1*ca2 - 4*R1*R2*ca1*ca2*l1**2 - 4*R1*R2*ca1*ca2*l2**2 + R2**4 - 4*R2**2*ca2**2*l1**2 + 2*R2**2*l1**2 - 2*R2**2*l2**2 + l1**4 - 2*l1**2*l2**2 + l2**4) + (D**2*R1*sqrt(1 - ca1**2) + D**2*R2*sqrt(1 - ca2**2) - 2*D*R1**2*ca1*sqrt(1 - ca1**2) - 2*D*R1*R2*ca1*sqrt(1 - ca2**2) - 2*D*R1*R2*ca2*sqrt(1 - ca1**2) - 2*D*R2**2*ca2*sqrt(1 - ca2**2) + R1**3*sqrt(1 - ca1**2) + 2*R1**2*R2*ca1**2*sqrt(1 - ca2**2) + 2*R1**2*R2*ca1*ca2*sqrt(1 - ca1**2) - R1**2*R2*sqrt(1 - ca2**2) + 2*R1*R2**2*ca1*ca2*sqrt(1 - ca2**2) + 2*R1*R2**2*ca2**2*sqrt(1 - ca1**2) - R1*R2**2*sqrt(1 - ca1**2) - R1*l1**2*sqrt(1 - ca1**2) + R1*l2**2*sqrt(1 - ca1**2) + R2**3*sqrt(1 - ca2**2) + R2*l1**2*sqrt(1 - ca2**2) - R2*l2**2*sqrt(1 - ca2**2))**2)/(2*(D**2 - 2*D*R1*ca1 - 2*D*R2*ca2 + R1**2 + 2*R1*R2*ca1*ca2 - 2*R1*R2*sqrt(1 - ca1**2)*sqrt(1 - ca2**2) + R2**2)) + (-D**2*R1*sqrt(1 - ca1**2)/2 - D**2*R2*sqrt(1 - ca2**2)/2 + D*R1**2*ca1*sqrt(1 - ca1**2) + D*R1*R2*ca1*sqrt(1 - ca2**2) + D*R1*R2*ca2*sqrt(1 - ca1**2) + D*R2**2*ca2*sqrt(1 - ca2**2) - R1**3*sqrt(1 - ca1**2)/2 - R1**2*R2*ca1**2*sqrt(1 - ca2**2) - R1**2*R2*ca1*ca2*sqrt(1 - ca1**2) + R1**2*R2*sqrt(1 - ca2**2)/2 - R1*R2**2*ca1*ca2*sqrt(1 - ca2**2) - R1*R2**2*ca2**2*sqrt(1 - ca1**2) + R1*R2**2*sqrt(1 - ca1**2)/2 + R1*l1**2*sqrt(1 - ca1**2)/2 - R1*l2**2*sqrt(1 - ca1**2)/2 - R2**3*sqrt(1 - ca2**2)/2 - R2*l1**2*sqrt(1 - ca2**2)/2 + R2*l2**2*sqrt(1 - ca2**2)/2)/(D**2 - 2*D*R1*ca1 - 2*D*R2*ca2 + R1**2 + 2*R1*R2*ca1*ca2 - 2*R1*R2*sqrt(1 - ca1**2)*sqrt(1 - ca2**2) + R2**2)},\n",
       " {x: (-D**2/2 + D*R2*ca2 + R1**2/2 - R2**2/2 - l1**2/2 + l2**2/2 + (R1*sqrt(1 - ca1**2) - R2*sqrt(1 - ca2**2))*(sqrt(-(D**2 - 2*D*R1*ca1 - 2*D*R2*ca2 + R1**2 + 2*R1*R2*ca1*ca2 - 2*R1*R2*sqrt(1 - ca1**2)*sqrt(1 - ca2**2) + R2**2)*(D**4 - 4*D**3*R1*ca1 - 4*D**3*R2*ca2 + 4*D**2*R1**2*ca1**2 + 2*D**2*R1**2 + 12*D**2*R1*R2*ca1*ca2 + 4*D**2*R2**2*ca2**2 + 2*D**2*R2**2 - 2*D**2*l1**2 - 2*D**2*l2**2 - 4*D*R1**3*ca1 - 8*D*R1**2*R2*ca1**2*ca2 - 4*D*R1**2*R2*ca2 - 8*D*R1*R2**2*ca1*ca2**2 - 4*D*R1*R2**2*ca1 + 4*D*R1*ca1*l1**2 + 4*D*R1*ca1*l2**2 - 4*D*R2**3*ca2 + 4*D*R2*ca2*l1**2 + 4*D*R2*ca2*l2**2 + R1**4 + 4*R1**3*R2*ca1*ca2 + 4*R1**2*R2**2*ca1**2 + 4*R1**2*R2**2*ca2**2 - 2*R1**2*R2**2 - 4*R1**2*ca1**2*l2**2 - 2*R1**2*l1**2 + 2*R1**2*l2**2 + 4*R1*R2**3*ca1*ca2 - 4*R1*R2*ca1*ca2*l1**2 - 4*R1*R2*ca1*ca2*l2**2 + R2**4 - 4*R2**2*ca2**2*l1**2 + 2*R2**2*l1**2 - 2*R2**2*l2**2 + l1**4 - 2*l1**2*l2**2 + l2**4) + (D**2*R1*sqrt(1 - ca1**2) + D**2*R2*sqrt(1 - ca2**2) - 2*D*R1**2*ca1*sqrt(1 - ca1**2) - 2*D*R1*R2*ca1*sqrt(1 - ca2**2) - 2*D*R1*R2*ca2*sqrt(1 - ca1**2) - 2*D*R2**2*ca2*sqrt(1 - ca2**2) + R1**3*sqrt(1 - ca1**2) + 2*R1**2*R2*ca1**2*sqrt(1 - ca2**2) + 2*R1**2*R2*ca1*ca2*sqrt(1 - ca1**2) - R1**2*R2*sqrt(1 - ca2**2) + 2*R1*R2**2*ca1*ca2*sqrt(1 - ca2**2) + 2*R1*R2**2*ca2**2*sqrt(1 - ca1**2) - R1*R2**2*sqrt(1 - ca1**2) - R1*l1**2*sqrt(1 - ca1**2) + R1*l2**2*sqrt(1 - ca1**2) + R2**3*sqrt(1 - ca2**2) + R2*l1**2*sqrt(1 - ca2**2) - R2*l2**2*sqrt(1 - ca2**2))**2)/(2*(D**2 - 2*D*R1*ca1 - 2*D*R2*ca2 + R1**2 + 2*R1*R2*ca1*ca2 - 2*R1*R2*sqrt(1 - ca1**2)*sqrt(1 - ca2**2) + R2**2)) + (-D**2*R1*sqrt(1 - ca1**2)/2 - D**2*R2*sqrt(1 - ca2**2)/2 + D*R1**2*ca1*sqrt(1 - ca1**2) + D*R1*R2*ca1*sqrt(1 - ca2**2) + D*R1*R2*ca2*sqrt(1 - ca1**2) + D*R2**2*ca2*sqrt(1 - ca2**2) - R1**3*sqrt(1 - ca1**2)/2 - R1**2*R2*ca1**2*sqrt(1 - ca2**2) - R1**2*R2*ca1*ca2*sqrt(1 - ca1**2) + R1**2*R2*sqrt(1 - ca2**2)/2 - R1*R2**2*ca1*ca2*sqrt(1 - ca2**2) - R1*R2**2*ca2**2*sqrt(1 - ca1**2) + R1*R2**2*sqrt(1 - ca1**2)/2 + R1*l1**2*sqrt(1 - ca1**2)/2 - R1*l2**2*sqrt(1 - ca1**2)/2 - R2**3*sqrt(1 - ca2**2)/2 - R2*l1**2*sqrt(1 - ca2**2)/2 + R2*l2**2*sqrt(1 - ca2**2)/2)/(D**2 - 2*D*R1*ca1 - 2*D*R2*ca2 + R1**2 + 2*R1*R2*ca1*ca2 - 2*R1*R2*sqrt(1 - ca1**2)*sqrt(1 - ca2**2) + R2**2)))/(-D + R1*ca1 + R2*ca2),\n",
       "  y: sqrt(-(D**2 - 2*D*R1*ca1 - 2*D*R2*ca2 + R1**2 + 2*R1*R2*ca1*ca2 - 2*R1*R2*sqrt(1 - ca1**2)*sqrt(1 - ca2**2) + R2**2)*(D**4 - 4*D**3*R1*ca1 - 4*D**3*R2*ca2 + 4*D**2*R1**2*ca1**2 + 2*D**2*R1**2 + 12*D**2*R1*R2*ca1*ca2 + 4*D**2*R2**2*ca2**2 + 2*D**2*R2**2 - 2*D**2*l1**2 - 2*D**2*l2**2 - 4*D*R1**3*ca1 - 8*D*R1**2*R2*ca1**2*ca2 - 4*D*R1**2*R2*ca2 - 8*D*R1*R2**2*ca1*ca2**2 - 4*D*R1*R2**2*ca1 + 4*D*R1*ca1*l1**2 + 4*D*R1*ca1*l2**2 - 4*D*R2**3*ca2 + 4*D*R2*ca2*l1**2 + 4*D*R2*ca2*l2**2 + R1**4 + 4*R1**3*R2*ca1*ca2 + 4*R1**2*R2**2*ca1**2 + 4*R1**2*R2**2*ca2**2 - 2*R1**2*R2**2 - 4*R1**2*ca1**2*l2**2 - 2*R1**2*l1**2 + 2*R1**2*l2**2 + 4*R1*R2**3*ca1*ca2 - 4*R1*R2*ca1*ca2*l1**2 - 4*R1*R2*ca1*ca2*l2**2 + R2**4 - 4*R2**2*ca2**2*l1**2 + 2*R2**2*l1**2 - 2*R2**2*l2**2 + l1**4 - 2*l1**2*l2**2 + l2**4) + (D**2*R1*sqrt(1 - ca1**2) + D**2*R2*sqrt(1 - ca2**2) - 2*D*R1**2*ca1*sqrt(1 - ca1**2) - 2*D*R1*R2*ca1*sqrt(1 - ca2**2) - 2*D*R1*R2*ca2*sqrt(1 - ca1**2) - 2*D*R2**2*ca2*sqrt(1 - ca2**2) + R1**3*sqrt(1 - ca1**2) + 2*R1**2*R2*ca1**2*sqrt(1 - ca2**2) + 2*R1**2*R2*ca1*ca2*sqrt(1 - ca1**2) - R1**2*R2*sqrt(1 - ca2**2) + 2*R1*R2**2*ca1*ca2*sqrt(1 - ca2**2) + 2*R1*R2**2*ca2**2*sqrt(1 - ca1**2) - R1*R2**2*sqrt(1 - ca1**2) - R1*l1**2*sqrt(1 - ca1**2) + R1*l2**2*sqrt(1 - ca1**2) + R2**3*sqrt(1 - ca2**2) + R2*l1**2*sqrt(1 - ca2**2) - R2*l2**2*sqrt(1 - ca2**2))**2)/(2*(D**2 - 2*D*R1*ca1 - 2*D*R2*ca2 + R1**2 + 2*R1*R2*ca1*ca2 - 2*R1*R2*sqrt(1 - ca1**2)*sqrt(1 - ca2**2) + R2**2)) + (-D**2*R1*sqrt(1 - ca1**2)/2 - D**2*R2*sqrt(1 - ca2**2)/2 + D*R1**2*ca1*sqrt(1 - ca1**2) + D*R1*R2*ca1*sqrt(1 - ca2**2) + D*R1*R2*ca2*sqrt(1 - ca1**2) + D*R2**2*ca2*sqrt(1 - ca2**2) - R1**3*sqrt(1 - ca1**2)/2 - R1**2*R2*ca1**2*sqrt(1 - ca2**2) - R1**2*R2*ca1*ca2*sqrt(1 - ca1**2) + R1**2*R2*sqrt(1 - ca2**2)/2 - R1*R2**2*ca1*ca2*sqrt(1 - ca2**2) - R1*R2**2*ca2**2*sqrt(1 - ca1**2) + R1*R2**2*sqrt(1 - ca1**2)/2 + R1*l1**2*sqrt(1 - ca1**2)/2 - R1*l2**2*sqrt(1 - ca1**2)/2 - R2**3*sqrt(1 - ca2**2)/2 - R2*l1**2*sqrt(1 - ca2**2)/2 + R2*l2**2*sqrt(1 - ca2**2)/2)/(D**2 - 2*D*R1*ca1 - 2*D*R2*ca2 + R1**2 + 2*R1*R2*ca1*ca2 - 2*R1*R2*sqrt(1 - ca1**2)*sqrt(1 - ca2**2) + R2**2)}]"
      ]
     },
     "execution_count": 79,
     "metadata": {},
     "output_type": "execute_result"
    }
   ],
   "source": [
    "x,y,R1,ca1,sa1,R2,ca2,sa2,D,l1,l2=symbols(\"x,y,R1,ca1,sa1,R2,ca2,sa2,D,l1,l2\")\n",
    "solve([(x-R1*ca1)**2 + (y + R1*sympy.sqrt(1-ca1**2))**2 - l1**2,\n",
    "       (D-x-R2*ca2)**2 + (y + R2*sympy.sqrt(1-ca2**2))**2 - l2**2],x,y, dict = True)"
   ]
  },
  {
   "cell_type": "code",
   "execution_count": 108,
   "metadata": {},
   "outputs": [],
   "source": []
  },
  {
   "cell_type": "code",
   "execution_count": null,
   "metadata": {},
   "outputs": [],
   "source": []
  },
  {
   "cell_type": "code",
   "execution_count": null,
   "metadata": {},
   "outputs": [],
   "source": []
  }
 ],
 "metadata": {
  "kernelspec": {
   "display_name": "Python 3.7.4 64-bit ('base': conda)",
   "language": "python",
   "name": "python37464bitbasecondaba62da3890274fcd990fd5bee86203a7"
  },
  "language_info": {
   "codemirror_mode": {
    "name": "ipython",
    "version": 3
   },
   "file_extension": ".py",
   "mimetype": "text/x-python",
   "name": "python",
   "nbconvert_exporter": "python",
   "pygments_lexer": "ipython3",
   "version": "3.7.4"
  }
 },
 "nbformat": 4,
 "nbformat_minor": 2
}
